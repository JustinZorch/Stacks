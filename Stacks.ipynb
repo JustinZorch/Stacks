{
 "cells": [
  {
   "cell_type": "markdown",
   "id": "339ae1bf",
   "metadata": {},
   "source": [
    "## Creating a Stack Data Structure"
   ]
  },
  {
   "cell_type": "markdown",
   "id": "8fb90df2",
   "metadata": {},
   "source": [
    "Questions:\n",
    "\n",
    "    1. Having same problem as in Linked Lists with head and bottom nodes not connecting to the next \n",
    "    \n",
    "    2. They are both initialised with a None on their NEXT feature and then never reassinged thus never linking\n",
    "    \n",
    "    3. When traversing through the Linked List or Stack it never makes it to the 2nd item\n",
    "    \n",
    "    4. I think I don't fully understand what is happening since the course  is in JavaScript??? \\\n",
    "        The Logic is supposed to be the same though"
   ]
  },
  {
   "cell_type": "code",
   "execution_count": 156,
   "id": "a7cc1266",
   "metadata": {},
   "outputs": [],
   "source": [
    "class Node:\n",
    "    \n",
    "     def __init__(self,value):\n",
    "            \n",
    "            self.value = value\n",
    "            self.next = None"
   ]
  },
  {
   "cell_type": "code",
   "execution_count": 157,
   "id": "963c3e27",
   "metadata": {},
   "outputs": [],
   "source": [
    "class Stack:\n",
    "    \n",
    "    def __init__(self,value):\n",
    "        \n",
    "        self.top = Node(value)\n",
    "        self.bottom = Node(value)\n",
    "        self.length = 1\n",
    "        \n",
    "        \n",
    "    def peek(self):\n",
    "        return self.top.value\n",
    "        'sees the top element'\n",
    "        \n",
    "    def push(self,value):#the bottom is never linked to the 2nd item??? How to traverse from bottom up then?\n",
    "        self.top.next = Node(value)\n",
    "        self.top = Node(value)\n",
    "        self.length += 1\n",
    "        'adds a node to the top/end of stack'\n",
    "        \n",
    "    def pop(self):\n",
    "        \n",
    "        #getting the 2nd last node to reassign it to the last\n",
    "        \n",
    "        ## how the fuck does the bottom NEXT value get reassgined??\n",
    "        current = self.bottom\n",
    "        while current is not None: #this always going to be FALSE since bottom initialises with None on creation\n",
    "            previous = current\n",
    "            current = current.next\n",
    "            \n",
    "            \n",
    "        tops = self.top\n",
    "        self.top = previous\n",
    "        self.top.next = None\n",
    "        self.length -= 1\n",
    "        \n",
    "        return tops.value\n",
    "    \n",
    "        'removes top/last item'"
   ]
  },
  {
   "cell_type": "code",
   "execution_count": 136,
   "id": "a2c3af40",
   "metadata": {},
   "outputs": [],
   "source": [
    "my_stack = Stack('Discord')"
   ]
  },
  {
   "cell_type": "code",
   "execution_count": 137,
   "id": "44c9a3cc",
   "metadata": {},
   "outputs": [
    {
     "data": {
      "text/plain": [
       "'Discord'"
      ]
     },
     "execution_count": 137,
     "metadata": {},
     "output_type": "execute_result"
    }
   ],
   "source": [
    "my_stack.peek()"
   ]
  },
  {
   "cell_type": "code",
   "execution_count": 150,
   "id": "605721d6",
   "metadata": {},
   "outputs": [],
   "source": [
    "my_stack.push('google')\n",
    "my_stack.push('Facebook')\n",
    "my_stack.push('Twitter')\n",
    "my_stack.push('Amazon')\n",
    "my_stack.push('Instagram')"
   ]
  },
  {
   "cell_type": "code",
   "execution_count": 152,
   "id": "75f1b15f",
   "metadata": {
    "scrolled": true
   },
   "outputs": [
    {
     "data": {
      "text/plain": [
       "'Instagram'"
      ]
     },
     "execution_count": 152,
     "metadata": {},
     "output_type": "execute_result"
    }
   ],
   "source": [
    "my_stack.peek()"
   ]
  },
  {
   "cell_type": "code",
   "execution_count": 151,
   "id": "07f86a48",
   "metadata": {},
   "outputs": [
    {
     "data": {
      "text/plain": [
       "8"
      ]
     },
     "execution_count": 151,
     "metadata": {},
     "output_type": "execute_result"
    }
   ],
   "source": [
    "my_stack.length"
   ]
  },
  {
   "cell_type": "code",
   "execution_count": 153,
   "id": "4af3103f",
   "metadata": {},
   "outputs": [
    {
     "data": {
      "text/plain": [
       "'Instagram'"
      ]
     },
     "execution_count": 153,
     "metadata": {},
     "output_type": "execute_result"
    }
   ],
   "source": [
    "my_stack.pop()"
   ]
  },
  {
   "cell_type": "code",
   "execution_count": 154,
   "id": "bdf93520",
   "metadata": {},
   "outputs": [
    {
     "data": {
      "text/plain": [
       "7"
      ]
     },
     "execution_count": 154,
     "metadata": {},
     "output_type": "execute_result"
    }
   ],
   "source": [
    "my_stack.length"
   ]
  },
  {
   "cell_type": "code",
   "execution_count": 155,
   "id": "0d53e373",
   "metadata": {},
   "outputs": [
    {
     "data": {
      "text/plain": [
       "'google'"
      ]
     },
     "execution_count": 155,
     "metadata": {},
     "output_type": "execute_result"
    }
   ],
   "source": [
    "my_stack.peek()"
   ]
  },
  {
   "cell_type": "code",
   "execution_count": 1,
   "id": "a8ce8e5f",
   "metadata": {},
   "outputs": [],
   "source": [
    "eg = [1,2,3,4,5]"
   ]
  },
  {
   "cell_type": "code",
   "execution_count": 3,
   "id": "57ef7c26",
   "metadata": {},
   "outputs": [
    {
     "data": {
      "text/plain": [
       "5"
      ]
     },
     "execution_count": 3,
     "metadata": {},
     "output_type": "execute_result"
    }
   ],
   "source": []
  },
  {
   "cell_type": "code",
   "execution_count": null,
   "id": "aaba2c8d",
   "metadata": {},
   "outputs": [],
   "source": []
  }
 ],
 "metadata": {
  "kernelspec": {
   "display_name": "Python 3",
   "language": "python",
   "name": "python3"
  },
  "language_info": {
   "codemirror_mode": {
    "name": "ipython",
    "version": 3
   },
   "file_extension": ".py",
   "mimetype": "text/x-python",
   "name": "python",
   "nbconvert_exporter": "python",
   "pygments_lexer": "ipython3",
   "version": "3.8.8"
  }
 },
 "nbformat": 4,
 "nbformat_minor": 5
}
